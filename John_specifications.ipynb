{
 "cells": [
  {
   "cell_type": "code",
   "execution_count": 115,
   "metadata": {},
   "outputs": [],
   "source": [
    "import generator_object, write_run_plot, serial_sim_tools\n",
    "import numpy as np\n",
    "\n",
    "from importlib import reload\n",
    "for obj in [generator_object, write_run_plot, serial_sim_tools]:\n",
    "    reload(obj)"
   ]
  },
  {
   "attachments": {},
   "cell_type": "markdown",
   "metadata": {},
   "source": [
    "Continuuing for John sims with rho = 6.9, N=50, T = 592 Kelvin, Z = 11, Inverse brehmmstralung, Non lte\n",
    "\n",
    "Varying: rho, T, P, internal energy, charge state, meanfree path\n"
   ]
  },
  {
   "cell_type": "code",
   "execution_count": 8,
   "metadata": {},
   "outputs": [],
   "source": [
    "def sim(var1, var2, var3):\n",
    "\n",
    "    gen = generator_object.User_input()\n",
    "    n_atom = 50\n",
    "    rho, T_ev = var1, var2\n",
    "    z = var3\n",
    "    N0, N1 = 1, 501 #We are operating in 1d wih 40 nodes\n",
    "    Rmin, Rmax = 0, 0.01\n",
    "    p2 = 1.e-9\n",
    "\n",
    "\n",
    "    gen.materials_atom(index = 1, quantum_n_max = 3, element= \"sn\")  \n",
    "    gen.materials_region(nodes = [N0, N1], elec_temp = T_ev, qstart = True) \n",
    "\n",
    "    gen.materials_region_material(rho, n_atom, z, z**2) #\n",
    "\n",
    "    gen.geometry(type = 'slab')\n",
    "    gen.geometry_nodes(coordinate = \"r\", scaling_type  = \"geom\", nodes = [N0, N1], nodes_range = [Rmin, Rmax], drmin = 1.e-6, slope = -1)\n",
    "\n",
    "\n",
    "    gen.sources_laser(index = 1, laser_wavelength = 1, option_1= 'value', option_2= 'history', id_value = 1, multiplier=1,)\n",
    "    gen.sources_lasray(entrance_position =  10, entrance_direction_mu = 1, entrance_direction_phi = 0, fractional_power= 1, res_frac=.5)\n",
    "    \n",
    "    gen.sources_history(id = 1, value_multiplier = 1e18, time_multiplier = 1., pulse_type='gaussian', p1 = 5*p2, p2 = p2)\n",
    "\n",
    "    gen.popular_switches(timestep_between_snapshot = 100, \n",
    "                        temparture_calc_heating_rates = ['temp calc = time dependant', 'heating rates = electronic'], \n",
    "                        raytrace = True, \n",
    "                        include_degeneracy = 'no degeneracy',\n",
    "                        continuum_transfer_evolves_temp = True)\n",
    "\n",
    "        \n",
    "    gen.other_switches(resonant_absorption_fraction = 'constant value for each ray from lasray', \n",
    "                        subcycle_maximum = 1000,\n",
    "                        do_kinetics_zone_centered = True, \n",
    "                        population_calculation = 'time dependent diffusion', \n",
    "                        control_calc_thermal_conduct = 'include thermal conduction')\n",
    "    \n",
    "    gen.controls(t_start = 0, t_end = 2.e-8, restart = True)\n",
    "\n",
    "    gen.parameters(time_between_snapshots = 1e-9, initial_timestep = 1.e-14)\n",
    "    \n",
    "    return gen\n",
    "\n",
    "\n"
   ]
  },
  {
   "cell_type": "code",
   "execution_count": 9,
   "metadata": {},
   "outputs": [
    {
     "name": "stdout",
     "output_type": "stream",
     "text": [
      "\n",
      "writing to /home/brewster/Desktop/cretin_package-master/Personal_experiments/johnrun1_0.10206896551724139_3.45_12/johnrun1_0.10206896551724139_3.45_12.gen\n",
      "running cretin with johnrun1_0.10206896551724139_3.45_12\n",
      "\n",
      "writing to /home/brewster/Desktop/cretin_package-master/Personal_experiments/johnrun1_0.10206896551724139_5.175000000000001_12/johnrun1_0.10206896551724139_5.175000000000001_12.gen\n",
      "running cretin with johnrun1_0.10206896551724139_5.175000000000001_12\n",
      "\n",
      "writing to /home/brewster/Desktop/cretin_package-master/Personal_experiments/johnrun1_0.10206896551724139_6.9_12/johnrun1_0.10206896551724139_6.9_12.gen\n",
      "running cretin with johnrun1_0.10206896551724139_6.9_12\n",
      "\n",
      "writing to /home/brewster/Desktop/cretin_package-master/Personal_experiments/johnrun1_0.10206896551724139_9.177000000000001_12/johnrun1_0.10206896551724139_9.177000000000001_12.gen\n",
      "running cretin with johnrun1_0.10206896551724139_9.177000000000001_12\n",
      "\n",
      "writing to /home/brewster/Desktop/cretin_package-master/Personal_experiments/johnrun1_0.10206896551724139_13.8_12/johnrun1_0.10206896551724139_13.8_12.gen\n",
      "running cretin with johnrun1_0.10206896551724139_13.8_12\n",
      "multiplot to /home/brewster/Desktop/cretin_package-master/Personal_experiments/sims_multiplot\n"
     ]
    }
   ],
   "source": [
    "var = np.array([.5, .75, 1, 1.33, 2.])\n",
    "\n",
    "Tvals = [2*592./11600]\n",
    "rhovals = 6.9*var\n",
    "z_vals = [12]\n",
    "\n",
    "combi = serial_sim_tools.combinatorics([Tvals, rhovals, z_vals])\n",
    "#for comb in combi:\n",
    "#    print(comb)\n",
    "sims = []\n",
    "\n",
    "\n",
    "\n",
    "for entry in combi:\n",
    "    base_name = 'johnrun1'\n",
    "    [var1,var2,var3] = entry\n",
    "    gen = sim(var1, var2, var3)\n",
    "    name = f'{base_name}_{var1}_{var2}_{var3}'\n",
    "    sims.append(name)\n",
    "    write_run_plot.write(name=name, longprint = False, plot_duplicates=False, object=gen)\n",
    "    write_run_plot.run(name=name, longprint = False, plot_duplicates=False, object=gen)\n",
    "    #write_run_plot.plot(name=name, longprint = False, plot_duplicates=False, object=gen)\n",
    "serial_sim_tools.plot_all('sims_multiplot', sims)\n",
    "\n",
    "# i'm seeing 2 minutes for 2 options, so 5*5*3 = 75 minutes maybe a bit more "
   ]
  },
  {
   "attachments": {},
   "cell_type": "markdown",
   "metadata": {},
   "source": [
    " \n",
    "\n",
    "on mean free paths:\n",
    "Rosseland mean absorption coefficient, including scattering, at node ir (1/cm)\n",
    "Planck mean absorption coefficient, not including contributions of photoexcitations, at node ir (1/cm)\n",
    "\n",
    "on internal energy:\n",
    "Internal energy of element iz at node ir with no continuum lowering (erg/cm3).\n"
   ]
  },
  {
   "cell_type": "code",
   "execution_count": 11,
   "metadata": {},
   "outputs": [],
   "source": [
    "# Looking for temperature, charge state, laser absorption pe unit distance, radiative heat. & other results from theoretical predictions\n",
    "\n",
    "\n",
    "\n",
    "def sim2(var2):\n",
    "\n",
    "    gen = generator_object.User_input()\n",
    "    n_atom = 50\n",
    "    rho, T_ev = 15, .1\n",
    "    z = 12\n",
    "    N0, N1 = 1, 501 #We are operating in 1d wih 40 nodes\n",
    "    Rmin, Rmax = 0, 0.01\n",
    "    p2 = 1.e-9\n",
    "\n",
    "\n",
    "    gen.materials_atom(index = 1, quantum_n_max = 3, element= \"sn\")  \n",
    "    gen.materials_region(nodes = [N0, N1], elec_temp = T_ev, qstart = True) \n",
    "\n",
    "    gen.materials_region_material(rho, n_atom, z, z**2) #\n",
    "\n",
    "    gen.geometry(type = 'slab')\n",
    "    gen.geometry_nodes(coordinate = \"r\", scaling_type  = \"geom\", nodes = [N0, N1], nodes_range = [Rmin, Rmax], drmin = 1.e-6, slope = -1)\n",
    "\n",
    "\n",
    "    gen.sources_laser(index = 1, laser_wavelength = 1, option_1= 'value', option_2= 'history', id_value = 1, multiplier=1,)\n",
    "    gen.sources_lasray(entrance_position =  10, entrance_direction_mu = 1, entrance_direction_phi = 0, fractional_power= 1, res_frac=.5)\n",
    "    \n",
    "    gen.sources_history(id = 1, value_multiplier = 1e18, time_multiplier = 1., pulse_type='gaussian', p1 = 5*p2, p2 = p2)\n",
    "\n",
    "    gen.popular_switches(timestep_between_snapshot = 100, \n",
    "                        temparture_calc_heating_rates = ['temp calc = time dependant', 'heating rates = electronic'], \n",
    "                        raytrace = True, \n",
    "                        include_degeneracy = 'no degeneracy',\n",
    "                        continuum_transfer_evolves_temp = True)\n",
    "\n",
    "        \n",
    "    gen.other_switches(resonant_absorption_fraction = 'constant value for each ray from lasray', \n",
    "                        subcycle_maximum = 1000,\n",
    "                        do_kinetics_zone_centered = True, \n",
    "                        population_calculation = 'time dependent diffusion', \n",
    "                        control_calc_thermal_conduct = 'include thermal conduction')\n",
    "    \n",
    "    gen.controls(t_start = 0, t_end = 2.e-8, restart = True)\n",
    "\n",
    "    gen.parameters(time_between_snapshots = 1e-9, initial_timestep = 1.e-14)\n",
    "    \n",
    "    return gen\n",
    "\n",
    "\n",
    "\n"
   ]
  },
  {
   "cell_type": "code",
   "execution_count": 121,
   "metadata": {},
   "outputs": [
    {
     "name": "stdout",
     "output_type": "stream",
     "text": [
      "running cretin with johnrun6\n",
      "adding additional plot to /home/brewster/Desktop/cretin_package-master/Personal_experiments/johnrun6/images\n"
     ]
    }
   ],
   "source": [
    "import generator_object, write_run_plot, serial_sim_tools, animate, plt_file\n",
    "import numpy as np\n",
    "import seaborn as sns\n",
    "import matplotlib.pyplot as plt\n",
    "from importlib import reload\n",
    "for obj in [generator_object, write_run_plot, serial_sim_tools, animate, plt_file]:\n",
    "    reload(obj)\n",
    "\n",
    "\n",
    "def sim3():\n",
    "\n",
    "    gen = generator_object.User_input()\n",
    "    n_atom = 50\n",
    "    rho, T_ev = 6.9, .1\n",
    "    z = 12\n",
    "    N0, N1 = 1, 501  # We are operating in 1d wih 40 nodes\n",
    "    Rmin, Rmax = 0, 0.01\n",
    "    p2 = 1.e-9\n",
    "\n",
    "    gen.materials_atom(index=1, quantum_n_max=3, element=\"sn\")\n",
    "    gen.materials_region(nodes=[N0, N1], elec_temp=T_ev, qstart=True)\n",
    "\n",
    "    gen.materials_region_material(rho, n_atom, z, z**2)\n",
    "\n",
    "    gen.geometry(type='slab')\n",
    "    gen.geometry_nodes(coordinate=\"r\", scaling_type=\"geom\", nodes=[\n",
    "                       N0, N1], nodes_range=[Rmin, Rmax], drmin=1.e-6, slope=-1)\n",
    "\n",
    "    gen.sources_laser(index=1, laser_wavelength=1, option_1='value',\n",
    "                      option_2='history', id_value=1, multiplier=1,)\n",
    "    gen.sources_lasray(entrance_position=10, entrance_direction_mu=1,\n",
    "                       entrance_direction_phi=0, fractional_power=1, res_frac=.5)\n",
    "\n",
    "    gen.sources_history(id=1, value_multiplier=1e20,\n",
    "                        time_multiplier=1., pulse_type='gaussian', p1=5*p2, p2=p2)\n",
    "\n",
    "    gen.popular_switches(temparture_calc_heating_rates=[\n",
    "                            'temp calc = steady state', 'heating rate uses internal energy rates'],\n",
    "                         raytrace=True,\n",
    "                         include_degeneracy='no degeneracy',\n",
    "                         continuum_transfer_evolves_temp=True)\n",
    "\n",
    "    gen.other_switches(resonant_absorption_fraction='constant value for each ray from lasray',\n",
    "                       subcycle_maximum=1000,\n",
    "                       do_kinetics_zone_centered=True,\n",
    "                       population_calculation='time dependent diffusion',\n",
    "                       control_calc_thermal_conduct='include thermal conduction')\n",
    "    \n",
    "    #gen.rswitches(Rad_transfer_alg='1-d and do transport using integral formalism')\n",
    "\n",
    "    gen.controls(t_start=0, t_end=2.e-8, restart=True)\n",
    "\n",
    "    gen.parameters(time_between_snapshots=1e-9, initial_timestep=1.e-14)\n",
    "\n",
    "    gen.add_plot(title='electron number density', xvars={'time':[],'ir':[0,0]}, yvars={'ne':[0,0]}) # works in linear\n",
    "    gen.add_plot(title='mass density', xvars={'time':[],'ir':[0,0]}, yvars={'zrho':[0,0]})  # works in linear\n",
    "\n",
    "    gen.add_plot(title='electron temperature', xvars={'time':[],'ir':[0,0]}, yvars={'te':[0,0]}) # works in log\n",
    "    gen.add_plot(title='net energy gain due to laser absorption', xvars={'time':[],'ir':[0,0]}, yvars={'heatl':[0,0]}) # works in log\n",
    "\n",
    "    gen.add_plot(title='charge state', xvars={'time':[],'ir':[0,0]}, yvars={'zbar':[0,0]}) #doesn't work \n",
    "    gen.add_plot(title='net energy gain due to radiation absorption', xvars={'time':[],'ir':[0,0]}, yvars={'heatj':[0,0]}) #doesn't work \n",
    "    gen.add_plot(title='radiation remperature', xvars={'time':[],'ir':[0,0]}, yvars={'tr':[0,0]})#doesn't work \n",
    "    return gen\n",
    "\n",
    "\n",
    "name = 'johnrun6'\n",
    "gen = sim3()\n",
    "\n",
    "#write_run_plot.write(name=name, longprint=False,plot_duplicates=False, object=gen)\n",
    "write_run_plot.run(name=name, longprint = False, plot_duplicates=False, object=gen)\n",
    "#write_run_plot.plot(name=name, longprint = False, plot_duplicates=False, object=gen)\n",
    "write_run_plot.extra_plot(name = name,  multiplot=False, make_animation=False)\n",
    "\n"
   ]
  },
  {
   "cell_type": "code",
   "execution_count": 141,
   "metadata": {},
   "outputs": [
    {
     "name": "stdout",
     "output_type": "stream",
     "text": [
      "/home/brewster/Desktop/cretin_package-master/Premade_cretin_tests//ablate/ablate.gen\n",
      "/home/brewster/Desktop/cretin_package-master/Premade_cretin_tests//lasfoam4/lasfoam.gen\n",
      "/home/brewster/Desktop/cretin_package-master/Premade_cretin_tests//lasfoam3/lasfoam.gen\n",
      "/home/brewster/Desktop/cretin_package-master/Premade_cretin_tests//lasfoam5/lasfoam.gen\n",
      "/home/brewster/Desktop/cretin_package-master/Premade_cretin_tests//lasfoam/lasfoam.gen\n",
      "                        0\n",
      "lasray 0.11 1. 0. 1.    4\n",
      "lasray RLASER 1. 0. 1.  1\n"
     ]
    }
   ],
   "source": [
    "import search\n",
    "reload(search)\n",
    "\n",
    "search_for_word = 'lasray'\n",
    "\n",
    "df = search.Generators().word(input = search_for_word, word_slicing = (0,5), print_path = True)\n",
    "print(df.to_string())\n",
    "\n",
    "\n",
    "search_inside_chapter = 'Switches and Parameters'\n",
    "#print(search.Generators().chapter(input = search_inside_chapter))\n"
   ]
  },
  {
   "cell_type": "code",
   "execution_count": 117,
   "metadata": {},
   "outputs": [
    {
     "name": "stdout",
     "output_type": "stream",
     "text": [
      "running cretin with marshak_wave\n",
      "adding additional plot to /home/brewster/Desktop/cretin_package-master/Personal_experiments/marshak_wave/images\n"
     ]
    }
   ],
   "source": [
    "name = 'marshak_wave'\n",
    "gen = sim3()\n",
    "\n",
    "#write_run_plot.write(name=name, longprint=False,plot_duplicates=False, object=gen)\n",
    "write_run_plot.run(name=name, longprint = False, plot_duplicates=False, object=gen)\n",
    "#write_run_plot.plot(name=name, longprint = False, plot_duplicates=False, object=gen)\n",
    "write_run_plot.extra_plot(name = name,  multiplot=False, make_animation=False)"
   ]
  },
  {
   "cell_type": "code",
   "execution_count": 137,
   "metadata": {},
   "outputs": [
    {
     "name": "stdout",
     "output_type": "stream",
     "text": [
      "running cretin with sn_rad_test\n",
      "adding additional plot to /home/brewster/Desktop/cretin_package-master/Personal_experiments/sn_rad_test/images\n",
      "Created image folder at /home/brewster/Desktop/cretin_package-master/Personal_experiments/sn_rad_test/images\n"
     ]
    }
   ],
   "source": [
    "name = 'sn_rad_test'\n",
    "gen = sim3()\n",
    "\n",
    "import os, shutil\n",
    "\n",
    "path_rem = '/home/brewster/Desktop/cretin_package-master/Personal_experiments/sn_rad_test/images'\n",
    "if os.path.isfile(path_rem):\n",
    "    print(f'removing {path_rem}')\n",
    "    os.remove(path_rem)\n",
    "\n",
    "#write_run_plot.write(name=name, longprint=False,plot_duplicates=False, object=gen)\n",
    "write_run_plot.run(name=name, longprint = False, plot_duplicates=False, object=gen)\n",
    "#write_run_plot.plot(name=name, longprint = False, plot_duplicates=False, object=gen)\n",
    "write_run_plot.extra_plot(name = name,  multiplot=False, make_animation=False)"
   ]
  },
  {
   "cell_type": "code",
   "execution_count": 158,
   "metadata": {},
   "outputs": [
    {
     "name": "stdout",
     "output_type": "stream",
     "text": [
      "removing /home/brewster/Desktop/cretin_package-master/Personal_experiments/sn_rad_test2/images\n",
      "running cretin with sn_rad_test2\n",
      "adding additional plot to /home/brewster/Desktop/cretin_package-master/Personal_experiments/sn_rad_test2/images\n",
      "Created image folder at /home/brewster/Desktop/cretin_package-master/Personal_experiments/sn_rad_test2/images\n"
     ]
    }
   ],
   "source": [
    "name = 'sn_rad_test2'\n",
    "gen = sim3()\n",
    "\n",
    "path_rem = '/home/brewster/Desktop/cretin_package-master/Personal_experiments/sn_rad_test2/images'\n",
    "if os.path.isdir(path_rem):\n",
    "    print(f'removing {path_rem}')\n",
    "    shutil. rmtree(path_rem)\n",
    "\n",
    "\n",
    "#write_run_plot.write(name=name, longprint=False,plot_duplicates=False, object=gen)\n",
    "write_run_plot.run(name=name, longprint = False, plot_duplicates=False, object=gen)\n",
    "#write_run_plot.plot(name=name, longprint = False, plot_duplicates=False, object=gen)\n",
    "write_run_plot.extra_plot(name = name,  multiplot=False, make_animation=False)"
   ]
  }
 ],
 "metadata": {
  "kernelspec": {
   "display_name": "base",
   "language": "python",
   "name": "python3"
  },
  "language_info": {
   "codemirror_mode": {
    "name": "ipython",
    "version": 3
   },
   "file_extension": ".py",
   "mimetype": "text/x-python",
   "name": "python",
   "nbconvert_exporter": "python",
   "pygments_lexer": "ipython3",
   "version": "3.9.13"
  },
  "orig_nbformat": 4
 },
 "nbformat": 4,
 "nbformat_minor": 2
}

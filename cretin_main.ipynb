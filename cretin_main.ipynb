{
 "cells": [
  {
   "attachments": {},
   "cell_type": "markdown",
   "metadata": {},
   "source": [
    "This is the cretin main file where I showcase all the functionality. To use this file succesfully you must have added your paths to the paths.py file and you must have cretin installed which is coupled to via the \"demo.sh\"."
   ]
  },
  {
   "cell_type": "code",
   "execution_count": 21,
   "metadata": {},
   "outputs": [],
   "source": [
    "from importlib import reload\n",
    "import numpy as np\n",
    "import generator_object, to_generator_string, search, paths, write_run_plot, serial_sim_tools, plt_file, premade_gen_files, animate2 #these python files should be in the same folder as cretin_main\n",
    "reload_bool = True # turn this on if you're changing these import so that they automaically reload\n",
    "_ = [reload(obj) for obj in [generator_object, to_generator_string, search, paths, write_run_plot, serial_sim_tools, plt_file, premade_gen_files, animate2] if reload_bool]\n"
   ]
  },
  {
   "attachments": {},
   "cell_type": "markdown",
   "metadata": {},
   "source": [
    "I'll Introduce the diffrent files .py files and their functionality.\n",
    "\n",
    "generator_object.py.\n",
    "Called using generator_object.User_input(), this function is the framework in which we insert the data for our simulations, inside are functions that allow the user to specify the properties of the simulation. Below we will showcase how you create a simulation with sim = generator_object.User_input() and the define f.e the geometry of the simulation using sim.geometry(type = 'slab').\n",
    "\n",
    "drop_methods_module.py.\n",
    "For every function inside generator_object.py there is a corresponding dropdown menu you can call to insert the data and help with vieuwing the possible inputs for the functions. \n",
    "\n",
    "paths.py.\n",
    "Provides the locations of the relevant external files (like the cretin executable), and allows for easy changing of these all across the code.\n",
    "\n",
    "search.py.\n",
    "In the test folder there are about 50 or so premade generator files, that were created by the writer of cretin. search.py allows one to search through these files for examples of how the code is written. Searching can by done by word, meaning a list will be returned of the most common occurences of this word in the generator file, or by chapter where the most common words in that chapter will be shown. \n",
    "\n",
    "plt_file.py.\n",
    "Cretin outputs matrices when a pltfile is requested, plt_file.py unwraps this data and using matplotlibs functionality to turn it into graphs.\n",
    "\n",
    "to_generator_string.py.\n",
    "This turns the sim object produced by generator_object.py intro a generator txt file that cretin can read. \n",
    "\n",
    "write_run_plot.py.\n",
    "Writes the generator file using to_generator_string.py runs cretin with that generator file and plots the resulting data using plt_file.py to an apropriate folder\n",
    "\n",
    "premade_gen.py.\n",
    "When the generator files is not being created by the user using the above functinality but instead has been written by hand or is premade, premade_gen.py can be used to run it.\n",
    "\n",
    "serial_sim_tools\n",
    "This file adds functionality for running mutiple experment in series and comparing the results. \n"
   ]
  },
  {
   "cell_type": "code",
   "execution_count": 2,
   "metadata": {},
   "outputs": [],
   "source": [
    "# This allows us to find frequently used terms in the generator files, \n",
    "# To be specific the lines of text in the generator files get sliced on \"word_slicing\" and then selected by the input, f.e 'alias'\n",
    "# Then a histogram gets made of the most common results\n",
    "# similarly for most used words in a chapter (ie \"Radiation\", \"Geography\" etc).\n",
    "# i'm using this to determine what syntax i should include in this python version\n",
    "\n",
    "search_for_word = 'alias'\n",
    "\n",
    "df = search.Generators().word(input = search_for_word, word_slicing = (0,10), print_path = False)\n",
    "#print(df.to_string())\n",
    "\n",
    "search_inside_chapter = 'Controls'\n",
    "#print(search.Generators().chapter(input = search_inside_chapter))\n"
   ]
  },
  {
   "cell_type": "code",
   "execution_count": 3,
   "metadata": {},
   "outputs": [
    {
     "name": "stdout",
     "output_type": "stream",
     "text": [
      "\n",
      "writing to /home/brewster/Desktop/cretin_package-master/Personal_experiments/trial1/trial1.gen\n",
      "running cretin with trial1\n",
      "plotting trial1 to /home/brewster/Desktop/cretin_package-master/Personal_experiments/trial1/images\n",
      "emis_0 has shape (11, 21, 50) and has not been plot\n",
      "jnu_0 has shape (11, 21, 50) and has not been plot\n",
      "kappa_0 has shape (11, 21, 50) and has not been plot\n"
     ]
    }
   ],
   "source": [
    "# reproducing detecterz.gen\n",
    "gen1 = generator_object.User_input()\n",
    "\n",
    "k1, k2 = 1, 21\n",
    "l1, l2 = 1, 11\n",
    "n2 = (k2*l2)/2 \n",
    "NI, NE, TE = 10**20, 10**20, 10**3\n",
    "R0, R1, Z0, Z1  = 0. , 1., -5, 5\n",
    "RD, ZD = R1 + .1, Z1 +.1\n",
    "MU1 = 10**-3\n",
    "MU2 = -1 + MU1\n",
    "PHI1, PHI2, PHI3 = 1.57, .785, .524\n",
    "\n",
    "gen1.materials_region(nodes = [k1, k2, l1, l2], elec_temp = 1.1)\n",
    "gen1.materials_region_background(k1, k2, l1, l2, TE)\n",
    "gen1.geometry(type = 'rz')\n",
    "gen1.geometry_quad(node_1 = [k1, k2], node_2= [l1, l2], x_cors = [R0, R1], y_cors = [Z0, Z1], ratios = [1,1])\n",
    "gen1.radiation_ebins(n_boundaries = 50, start = 100, end = 1000)\n",
    "gen1.radiation_angles(n_rays = 3, n_angles = 15)\n",
    "gen1.controls(t_start = 0, t_end = 0)\n",
    "gen1.popular_switches(continuum_transfer='do steady-state continuum transfer', include_degeneracy='include electron degeneracy')\n",
    "\n",
    "# this automatically creates the 'trial' folder, writes to the 'trial.gen' file, runs cretin, extracts the data and plots it into the trial/images folder \n",
    "write_run_plot.all(name = 'trial1', object = gen1, longprint = False, plot_duplicates = False)"
   ]
  },
  {
   "cell_type": "code",
   "execution_count": 4,
   "metadata": {},
   "outputs": [
    {
     "data": {
      "application/vnd.jupyter.widget-view+json": {
       "model_id": "ba2b82ba9bda45d89ae75d04c90ebcbe",
       "version_major": 2,
       "version_minor": 0
      },
      "text/plain": [
       "HBox(children=(Dropdown(description='include degeneracy:', layout=Layout(width='200px'), options=('include ele…"
      ]
     },
     "metadata": {},
     "output_type": "display_data"
    }
   ],
   "source": [
    "# if it was unclear what options coninuum_transfer took in the gen1.popular_switches() function you could also call\n",
    "gen1.drop.popular_switches() # to dropdown the options \n",
    "# note that each time you call gen1.drop.popular_switches() you would have to respeciy the options so from a trial and\n",
    "# error perspective it may be ineffective"
   ]
  },
  {
   "cell_type": "code",
   "execution_count": 5,
   "metadata": {},
   "outputs": [
    {
     "name": "stdout",
     "output_type": "stream",
     "text": [
      "\n",
      "writing to /home/brewster/Desktop/cretin_package-master/Personal_experiments/checking_lasfoam4/checking_lasfoam4.gen\n",
      "running cretin with checking_lasfoam4\n",
      "plotting checking_lasfoam4 to /home/brewster/Desktop/cretin_package-master/Personal_experiments/checking_lasfoam4/images\n"
     ]
    }
   ],
   "source": [
    "# Here we reproduce lasfoam.gen from the test folder\n",
    "\n",
    "def lasfoam(source):\n",
    "\n",
    "    gen2 = generator_object.User_input()\n",
    "\n",
    "    N0, N1 = 1, 21 #number of nodes is 20\n",
    "    DN, DR = 10, .1\n",
    "    E1, E2 = 4.68, 4.69\n",
    "    TE, rho = 2.0, 0.003\n",
    "    E1, E2 = 4.68, 4.68*1.001\n",
    "    HPEV = 4.135667516e-15\n",
    "    mult =  HPEV / (E2 - E1)\n",
    "    RSPOT = .1\n",
    "    ELASER, TLASER = 1000, 2e-9\n",
    "    ILASER = 10**7*ELASER/(TLASER*np.pi*RSPOT**2)\n",
    "    \n",
    "    gen2.materials_atom(index = 1, quantum_n_max = 3, element= \"h\")    \n",
    "    gen2.materials_atom(index = 1, quantum_n_max = 3, element= \"c\")\n",
    "\n",
    "    gen2.materials_region(nodes = [N0, N1], elec_temp = TE)\n",
    "    gen2.materials_region_rho(rho)\n",
    "    gen2.materials_region_element(index = 1, initial_ion_population = 1.)\n",
    "    gen2.materials_region_element(index = 2, initial_ion_population = 1.)\n",
    "\n",
    "    gen2.geometry(type = 'slab')\n",
    "    gen2.geometry_nodes(coordinate= \"r\", scaling_type  = \"lin\", nodes = [N0, N1], nodes_range=[0,DR])\n",
    "\n",
    "    gen2.radiation_ebins(n_boundaries = 61, start = 0.1, end = 10**(5))\n",
    "    gen2.radiation_angles(n_rays = 3)\n",
    "\n",
    "    gen2.controls(t_start=0., t_end = 3e-9, restart = True)\n",
    "    gen2.controls_history(id = 1, value_mutiplier = ILASER, time_multiplier = TLASER)\n",
    "    gen2.controls_history_tv(time = 0., value = 1)\n",
    "    gen2.controls_history_tv(time = 1.0, value = 1.)\n",
    "    gen2.controls_history_tv(time = 1.0, value = 0.)\n",
    "\n",
    "    gen2.parameters(scattering_muliplier = 0,initial_timestep = 10**-13, minimum_timestep = 10**-14, maximum_timestep = 10**-10, time_between_snapshots=10**(-9))\n",
    "    gen2.popular_switches(temparture_calc_heating_rates=['temp calc = time dependant','heating rates = electronic'], max_iterations_per_timestep=10)\n",
    "\n",
    "    if source == 'SOURCE1':\n",
    "        gen2.sources_source_laser(laser_wavelength = 4, option_1= 'rate', option_2= 'history', values = [1,1], nodes= [N0, N1])\n",
    "\n",
    "    elif source == 'SOURCE2':\n",
    "        gen2.sources_source_jnu(E_range=[E1,E2], option_1= 'rate', option_2= 'history', values = [1,mult], nodes= [N0, N1])\n",
    "\n",
    "    elif source == 'SOURCE3':\n",
    "        gen2.sources_source_jbndry(index = 1, E_range= [E1, E2], option_1= 'rate', option_2= 'history',values = [1,mult])\n",
    "        gen2.sources_boundary(package='radiation', type = 'streaming', nodes= [1, 0, N1, 'xfile'], value = 1, mult = 1)\n",
    "        gen2.popular_switches(temparture_calc_heating_rates=['temp calc = time dependant','heating rates = electronic'], \n",
    "                              max_iterations_per_timestep = 10, continuum_transfer='do steady-state and use integral formalism formalism')\n",
    "\n",
    "    elif source == 'SOURCE4':\n",
    "        gen2.sources_source_jbndry(index = 1, E_range= [E1, E2], option_1= 'rate', option_2= 'history',values = [1,mult])\n",
    "        gen2.sources_boundary(package='radiation', type = 'streaming', nodes= [1, 0, N1, 'xfile'], value = 1, mult = 1)\n",
    "        gen2.popular_switches(continuum_transfer_evolves_temp = True)\n",
    "        gen2.sources_rswitch(radiation_transfer_algorithm1d= 'do transport using integral formalism', assume_NLTE= True)  \n",
    "    \n",
    "    return gen2\n",
    "\n",
    "\n",
    "gen2 = lasfoam('SOURCE4')\n",
    "name = 'checking_lasfoam4'\n",
    "write_run_plot.all(name, gen2, longprint=False, plot_duplicates= False)\n"
   ]
  },
  {
   "cell_type": "code",
   "execution_count": 6,
   "metadata": {},
   "outputs": [
    {
     "name": "stdout",
     "output_type": "stream",
     "text": [
      "\n",
      "writing to /home/brewster/Desktop/cretin_package-master/Personal_experiments/trial0/trial0.gen\n",
      "running cretin with trial0\n",
      "\n",
      "writing to /home/brewster/Desktop/cretin_package-master/Personal_experiments/trial1/trial1.gen\n",
      "running cretin with trial1\n",
      "\n",
      "writing to /home/brewster/Desktop/cretin_package-master/Personal_experiments/trial2/trial2.gen\n",
      "running cretin with trial2\n",
      "\n",
      "writing to /home/brewster/Desktop/cretin_package-master/Personal_experiments/trial3/trial3.gen\n",
      "running cretin with trial3\n",
      "\n",
      "writing to /home/brewster/Desktop/cretin_package-master/Personal_experiments/trial4/trial4.gen\n",
      "running cretin with trial4\n",
      "\n",
      "writing to /home/brewster/Desktop/cretin_package-master/Personal_experiments/trial5/trial5.gen\n",
      "running cretin with trial5\n",
      "multiplot to /home/brewster/Desktop/cretin_package-master/Personal_experiments/trials_mutiplot\n"
     ]
    }
   ],
   "source": [
    "# here we plot mutiple simulations into one plot to compare them\n",
    "# first we create our generic object\n",
    "def sim(var):\n",
    "\n",
    "    gen2 = generator_object.User_input()\n",
    "\n",
    "    rho, T_ev, Tkelvin = 6.9, 30*var, 512,  \n",
    "    ne, z = 10**20, 12\n",
    "    N0, N1 = 1, 41 #We are operating in 1d wih 40 nodes\n",
    "    tin_n = 50\n",
    "    DR =  .1\n",
    "\n",
    "    gen2.materials_atom(index = 1, quantum_n_max = 3, element= \"Sn\")\n",
    "    gen2.materials_region(nodes = [N0, N1], elec_temp = T_ev)\n",
    "    gen2.materials_region_rho(rho)\n",
    "    gen2.materials_region_background(ion_density = ne, electron_density = ne, average_charge = z, average_charge_squared=z**2, avg_atomic_number = tin_n )\n",
    "    gen2.materials_region_element(index = 1, initial_ion_population = ne )\n",
    "\n",
    "    gen2.geometry(type = 'slab')\n",
    "    gen2.geometry_nodes(coordinate= \"r\", scaling_type  = \"lin\", nodes = [N0, N1], nodes_range=[0,DR])\n",
    "\n",
    "    gen2.radiation_ebins(n_boundaries = 121, start = 10**-5, end = 10**(5))\n",
    "    gen2.radiation_angles(n_rays = 3)\n",
    "\n",
    "    gen2.controls(t_start=0., t_end=3*10**-6, restart = True)\n",
    "    gen2.popular_switches(timestep_between_snapshot = 5)\n",
    "    return gen2\n",
    "\n",
    "\n",
    "i0, iend = 0,6\n",
    "trials = []\n",
    "name = 'trial'\n",
    "# Here i showcase the mutiplot functionality automatically putting all the data into one plot per type\n",
    "for i in range(i0,iend):\n",
    "\n",
    "    trial = name+str(i)\n",
    "    trials.append(trial)\n",
    "    variable = 2**i\n",
    "    gen2 = sim(variable)\n",
    "    write_run_plot.write(name = name+str(i), object = gen2)\n",
    "    write_run_plot.run(name = name+str(i), longprint=False)\n",
    "\n",
    "serial_sim_tools.plot_all('trials_mutiplot', trials)\n"
   ]
  },
  {
   "cell_type": "code",
   "execution_count": 7,
   "metadata": {},
   "outputs": [
    {
     "name": "stdout",
     "output_type": "stream",
     "text": [
      "\n",
      "writing to /home/brewster/Desktop/cretin_package-master/Personal_experiments/combinatorics_sim_1_4_2/combinatorics_sim_1_4_2.gen\n",
      "running cretin with combinatorics_sim_1_4_2\n",
      "\n",
      "writing to /home/brewster/Desktop/cretin_package-master/Personal_experiments/combinatorics_sim_1_4_7/combinatorics_sim_1_4_7.gen\n",
      "running cretin with combinatorics_sim_1_4_7\n",
      "\n",
      "writing to /home/brewster/Desktop/cretin_package-master/Personal_experiments/combinatorics_sim_1_5_2/combinatorics_sim_1_5_2.gen\n",
      "running cretin with combinatorics_sim_1_5_2\n",
      "\n",
      "writing to /home/brewster/Desktop/cretin_package-master/Personal_experiments/combinatorics_sim_1_5_7/combinatorics_sim_1_5_7.gen\n",
      "running cretin with combinatorics_sim_1_5_7\n",
      "\n",
      "writing to /home/brewster/Desktop/cretin_package-master/Personal_experiments/combinatorics_sim_2_4_2/combinatorics_sim_2_4_2.gen\n",
      "running cretin with combinatorics_sim_2_4_2\n",
      "\n",
      "writing to /home/brewster/Desktop/cretin_package-master/Personal_experiments/combinatorics_sim_2_4_7/combinatorics_sim_2_4_7.gen\n",
      "running cretin with combinatorics_sim_2_4_7\n",
      "\n",
      "writing to /home/brewster/Desktop/cretin_package-master/Personal_experiments/combinatorics_sim_2_5_2/combinatorics_sim_2_5_2.gen\n",
      "running cretin with combinatorics_sim_2_5_2\n",
      "\n",
      "writing to /home/brewster/Desktop/cretin_package-master/Personal_experiments/combinatorics_sim_2_5_7/combinatorics_sim_2_5_7.gen\n",
      "running cretin with combinatorics_sim_2_5_7\n",
      "multiplot to /home/brewster/Desktop/cretin_package-master/Personal_experiments/combinatorics_sim_multiplot\n"
     ]
    }
   ],
   "source": [
    "def sim1(var1, var2, var3):\n",
    "\n",
    "    gen2 = generator_object.User_input()\n",
    "\n",
    "    rho, T_ev, Tkelvin = 6.9*var1, 30*var2, 512*var3,  \n",
    "    ne, z = 10**20, 12\n",
    "    N0, N1 = 1, 41 #We are operating in 1d wih 40 nodes\n",
    "    tin_n = 50\n",
    "    E1, E2 = 4, 4.7 # the laser energies\n",
    "    DN, DR = 10, .1\n",
    "\n",
    "\n",
    "    gen2.materials_atom(index = 1, quantum_n_max = 3, element= \"Sn\")\n",
    "    gen2.materials_region(nodes = [N0, N1], elec_temp = T_ev)\n",
    "    gen2.materials_region_rho(rho)\n",
    "    gen2.materials_region_background(ion_density = ne, electron_density = ne, average_charge = z, average_charge_squared=z**2, avg_atomic_number = tin_n )\n",
    "    gen2.materials_region_element(index = 1, initial_ion_population = ne )\n",
    "\n",
    "    gen2.geometry(type = 'slab')\n",
    "    gen2.geometry_nodes(coordinate= \"r\", scaling_type  = \"lin\", nodes = [N0, N1], nodes_range=[0,DR])\n",
    "\n",
    "    gen2.radiation_ebins(n_boundaries = 121, start = 10**-5, end = 10**(5))\n",
    "    gen2.radiation_angles(n_rays = 3)\n",
    "\n",
    "    gen2.controls(t_start=0., t_end=3*10**-6, restart = True)\n",
    "    gen2.popular_switches(timestep_between_snapshot = 5)\n",
    "    return gen2\n",
    "\n",
    "# Here i showcase the combinatorcs functionality allowin the combination of any set of paramters for mutiplot\n",
    "vars1, vars2, vars3 = np.arange(1,3,1), np.arange(4,6,1), np.arange(2,12,5)\n",
    "arr = np.array([vars1, vars2, vars3], dtype=object)\n",
    "combinations = serial_sim_tools.combinatorics(arr = arr)\n",
    "names = []\n",
    "base_name = 'combinatorics_sim'\n",
    "\n",
    "for combination in combinations:\n",
    "    [var1,var2,var3] = combination\n",
    "    gen2 = sim1(var1, var2, var3)\n",
    "    name = f'{base_name}_{var1}_{var2}_{var3}'\n",
    "    names.append(name)\n",
    "    write_run_plot.write(name = name, object = gen2)\n",
    "    write_run_plot.run(name = name, longprint=False)\n",
    "\n",
    "serial_sim_tools.plot_all(f'{base_name}_multiplot', names)"
   ]
  },
  {
   "cell_type": "code",
   "execution_count": 8,
   "metadata": {},
   "outputs": [
    {
     "name": "stdout",
     "output_type": "stream",
     "text": [
      "running cretin with ablate\n",
      "plotting ablate to /home/brewster/Desktop/cretin_package-master/Premade_cretin_tests/ablate/images\n"
     ]
    }
   ],
   "source": [
    "# premade generator files exist in the test folder, premades allows you to run run and plot with a user defined path.\n",
    "#premade_gen_files.run('ablate', path = paths.to_previous_experiments())\n",
    "\n"
   ]
  },
  {
   "cell_type": "code",
   "execution_count": 9,
   "metadata": {},
   "outputs": [
    {
     "name": "stdout",
     "output_type": "stream",
     "text": [
      "\n",
      "writing to /home/brewster/Desktop/cretin_package-master/Personal_experiments/trial1/trial1.gen\n",
      "running cretin with trial1\n",
      "\n",
      "writing to /home/brewster/Desktop/cretin_package-master/Personal_experiments/trial2/trial2.gen\n",
      "running cretin with trial2\n",
      "\n",
      "writing to /home/brewster/Desktop/cretin_package-master/Personal_experiments/trial3/trial3.gen\n",
      "running cretin with trial3\n",
      "multiplot to /home/brewster/Desktop/cretin_package-master/Personal_experiments/trials_mutiplot1\n",
      "\n",
      "writing to /home/brewster/Desktop/cretin_package-master/Personal_experiments/trial4/trial4.gen\n",
      "running cretin with trial4\n",
      "\n",
      "writing to /home/brewster/Desktop/cretin_package-master/Personal_experiments/trial5/trial5.gen\n",
      "running cretin with trial5\n",
      "\n",
      "writing to /home/brewster/Desktop/cretin_package-master/Personal_experiments/trial6/trial6.gen\n",
      "running cretin with trial6\n",
      "multiplot to /home/brewster/Desktop/cretin_package-master/Personal_experiments/trials_mutiplot2\n",
      "\n",
      "writing to /home/brewster/Desktop/cretin_package-master/Personal_experiments/trial7/trial7.gen\n",
      "running cretin with trial7\n",
      "\n",
      "writing to /home/brewster/Desktop/cretin_package-master/Personal_experiments/trial8/trial8.gen\n",
      "running cretin with trial8\n",
      "\n",
      "writing to /home/brewster/Desktop/cretin_package-master/Personal_experiments/trial9/trial9.gen\n",
      "running cretin with trial9\n",
      "multiplot to /home/brewster/Desktop/cretin_package-master/Personal_experiments/trials_mutiplot3\n"
     ]
    }
   ],
   "source": [
    "# Here i showcase the ability to add plots, and grouping together plots into diffrent multiplot files\n",
    "\n",
    "def tin(source, variable):\n",
    "\n",
    "    gen2 = generator_object.User_input()\n",
    "\n",
    "    N0, N1 = 1, 21 #number of nodes is 20\n",
    "    DR =  .1\n",
    "    TE, rho = 30.0, .002\n",
    "    E1, E2 = 4.68, 4.68*1.001\n",
    "    HPEV = 4.135667516e-15\n",
    "    mult =  HPEV / (E2 - E1)\n",
    "    RSPOT = .01\n",
    "    ELASER, TLASER = .06, 2e-9\n",
    "    ILASER = variable*10**7*ELASER/(TLASER*np.pi*RSPOT**2)\n",
    "    \n",
    "    gen2.materials_atom(index = 1, quantum_n_max = 3, element= \"sn\")    \n",
    "\n",
    "    gen2.materials_region(nodes = [N0, N1], elec_temp = TE)\n",
    "    gen2.materials_region_rho(rho)\n",
    "    gen2.materials_region_element(index = 1, initial_ion_population = 1.)\n",
    "\n",
    "\n",
    "    gen2.geometry(type = 'slab')\n",
    "    gen2.geometry_nodes(coordinate= \"r\", scaling_type  = \"lin\", nodes = [N0, N1], nodes_range=[0,DR])\n",
    "\n",
    "    gen2.radiation_ebins(n_boundaries = 101, start = 0.1, end = 10**(2))\n",
    "    gen2.radiation_angles(n_rays = 3)\n",
    "\n",
    "    gen2.controls(t_start=0., t_end = 3e-9, restart = True)\n",
    "    gen2.controls_history(id = 1, value_mutiplier = ILASER, time_multiplier = TLASER)\n",
    "    gen2.controls_history_tv(time = 0., value = 1)\n",
    "    gen2.controls_history_tv(time = 1.0, value = 1.)\n",
    "    gen2.controls_history_tv(time = 1.0, value = 0.)\n",
    "\n",
    "\n",
    "    gen2.parameters(scattering_muliplier = 0,initial_timestep = 10**-13, minimum_timestep = 10**-14, maximum_timestep = 10**-9, time_between_snapshots=10**(-9))\n",
    "    gen2.popular_switches(temparture_calc_heating_rates=['temp calc = time dependant','heating rates = electronic'], max_iterations_per_timestep=20)\n",
    "\n",
    "    gen2.add_plot(name = 'plotter', xvar = 'time', yvar = 'tiv')\n",
    "    gen2.add_plot(name = 'plotter1', xvar = 'time', yvar = 'tev')\n",
    "    gen2.add_plot(name = 'plotter2', xvar = 'time', yvar = 'rho')\n",
    "    gen2.add_plot(name = 'plotter3', xvar = 'time', yvar = 'tev')\n",
    "    gen2.add_plot(name = 'plotter4', xvar = 'time', yvar = 'tautot')\n",
    "    gen2.add_plot(name = 'plotter5', xvar = 'time', yvar = 'zbar')\n",
    "    gen2.add_plot(name = 'plotter6', xvar = 'time', yvar = 'nion')\n",
    "    gen2.add_plot(name = 'plotter7', xvar = 'time', yvar = 'ne')\n",
    "\n",
    "    if source == 'SOURCE1':\n",
    "        gen2.sources_source_laser(laser_wavelength = 4, option_1= 'rate', option_2= 'history', values = [1,1], nodes= [N0, N1])\n",
    "\n",
    "    elif source == 'SOURCE2':\n",
    "        gen2.sources_source_jnu(E_range=[E1,E2], option_1= 'rate', option_2= 'history', values = [1,mult], nodes= [N0, N1])\n",
    "\n",
    "    elif source == 'SOURCE3':\n",
    "        gen2.sources_source_jbndry(index = 1, E_range= [E1, E2], option_1= 'rate', option_2= 'history',values = [1,mult])\n",
    "        gen2.sources_boundary(package='radiation', type = 'streaming', nodes= [1, 0, N1, 'xfile'], value = 1, mult = mult)\n",
    "        gen2.popular_switches(temparture_calc_heating_rates=['temp calc = time dependant','heating rates = electronic'], \n",
    "                              max_iterations_per_timestep = 10, continuum_transfer='do steady-state and use integral formalism formalism')\n",
    "\n",
    "    elif source == 'SOURCE4':\n",
    "        gen2.sources_source_jbndry(index = 1, E_range= [E1, E2], option_1= 'rate', option_2= 'history',values = [1,mult])\n",
    "        gen2.sources_boundary(package='radiation', type = 'streaming', nodes= [1, 0, N1, 'xfile'], value = 1, mult = mult)\n",
    "        gen2.popular_switches(continuum_transfer_evolves_temp = True)\n",
    "        gen2.sources_rswitch(radiation_transfer_algorithm1d= 'do transport using integral formalism', assume_NLTE= True)  \n",
    "    \n",
    "    return gen2\n",
    "\n",
    "i0 = 1\n",
    "trials = []\n",
    "name = 'trial'\n",
    "N, M = 3, 3 # this is the multiplot group size and number of groups\n",
    "iend = i0+M*N\n",
    "\n",
    "for i in range(i0,iend):\n",
    "    name_i = name+str(i)\n",
    "    trials.append(name_i)\n",
    "    gen2 = tin('SOURCE1', i)\n",
    "\n",
    "    write_run_plot.write(name = name_i, object = gen2)\n",
    "    write_run_plot.run(name = name_i, longprint=False)\n",
    "\n",
    "    if (i>0 and i%N == 0) or i == iend -1:\n",
    "        serial_sim_tools.plot_all(f'trials_mutiplot{int(i/N)}', trials)\n",
    "        trials = []\n",
    "\n"
   ]
  },
  {
   "cell_type": "code",
   "execution_count": 10,
   "metadata": {},
   "outputs": [
    {
     "name": "stdout",
     "output_type": "stream",
     "text": [
      "removed existing image folder\n",
      "Created image folder at /home/brewster/Desktop/cretin_package-master/Premade_cretin_tests/advect/images\n"
     ]
    }
   ],
   "source": [
    "\n",
    "# the premade files also include plt.file data arrays, which contain the data that this frontend uses to make the plots.\n",
    "# If you want to acces these Plt files without creating a generator file or running cretin you can use plt_file.py\n",
    "\n",
    "plt_file.create_plot('advect', path = paths.to_previous_experiments())\n",
    "\n"
   ]
  },
  {
   "cell_type": "code",
   "execution_count": 22,
   "metadata": {},
   "outputs": [
    {
     "name": "stdout",
     "output_type": "stream",
     "text": [
      "\n",
      "writing to /home/brewster/Desktop/cretin_package-master/Personal_experiments/simrun_500.0/simrun_500.0.gen\n",
      "running cretin with simrun_500.0\n",
      "\n",
      "writing to /home/brewster/Desktop/cretin_package-master/Personal_experiments/simrun_600.0/simrun_600.0.gen\n",
      "running cretin with simrun_600.0\n",
      "\n",
      "writing to /home/brewster/Desktop/cretin_package-master/Personal_experiments/simrun_700/simrun_700.gen\n",
      "running cretin with simrun_700\n",
      "\n",
      "writing to /home/brewster/Desktop/cretin_package-master/Personal_experiments/simrun_800.0/simrun_800.0.gen\n",
      "running cretin with simrun_800.0\n",
      "multiplot to /home/brewster/Desktop/cretin_package-master/Personal_experiments/sims_multiplot\n"
     ]
    }
   ],
   "source": [
    "def sim(var1):\n",
    "\n",
    "    gen = generator_object.User_input()\n",
    "    n_atom = 50\n",
    "    rho, T_ev = 6.9, var1/11600\n",
    "    z = 11\n",
    "    N0, N1 = 1, 501 #We are operating in 1d wih 40 nodes\n",
    "    Rmin, Rmax = 0, 0.01\n",
    "    p2 = 1.e-9\n",
    "\n",
    "\n",
    "    gen.materials_atom(index = 1, quantum_n_max = var3, element= \"sn\")  \n",
    "    gen.materials_region(nodes = [N0, N1], elec_temp = T_ev) \n",
    "\n",
    "    gen.materials_region_material(rho, n_atom, z, z**2) #\n",
    "\n",
    "    gen.geometry(type = 'slab')\n",
    "    gen.geometry_nodes(coordinate = \"r\", scaling_type  = \"geom\", nodes = [N0, N1], nodes_range = [Rmin, Rmax], drmin = 1.e-6, slope = -1)\n",
    "\n",
    "\n",
    "    gen.sources_laser(index = 1, laser_wavelength = 1, option_1= 'value', option_2= 'history', id_value = 1, multiplier=1,)\n",
    "    gen.sources_lasray(entrance_position =  10, entrance_direction_mu = 1, entrance_direction_phi = 0, fractional_power= 1, res_frac=.5)\n",
    "    \n",
    "    gen.sources_history(id = 1, value_multiplier = 1e18, time_multiplier = 1., pulse_type='gaussian', p1 = 5*p2, p2 = p2)\n",
    "\n",
    "    gen.popular_switches(timestep_between_snapshot = 100, \n",
    "                        temparture_calc_heating_rates = ['temp calc = time dependant', 'heating rates = electronic'], \n",
    "                        raytrace = True, \n",
    "                        include_degeneracy = 'no degeneracy',\n",
    "                        continuum_transfer_evolves_temp = True)\n",
    "\n",
    "        \n",
    "    gen.other_switches(resonant_absrption_fraction = 'constant value for each ray from lasray', \n",
    "                        subcycle_maximum = 1000,\n",
    "                        do_kinetics_zone_centerd = True, \n",
    "                        population_calculation = 'time dependent diffusion', \n",
    "                        control_calc_thermal_conduct = 'include thermal conduction')\n",
    "    \n",
    "    gen.controls(t_start = 0, t_end = 3.e-7, restart = True)\n",
    "\n",
    "    gen.parameters(time_between_snapshots = 1e-9, initial_timestep = 1.e-14)\n",
    "    \n",
    "    return gen\n",
    "\n",
    "var1_ops = [500., 600., 700, 800.]\n",
    "\n",
    "sims = []\n",
    "\n",
    "\n",
    "for entry in var1_ops:\n",
    "    name = f'simrun_{entry}'\n",
    "    sims.append(name)\n",
    "    gen = sim(entry)\n",
    "\n",
    "    write_run_plot.write(name, object = gen)\n",
    "    write_run_plot.run(name, longprint = False)\n",
    "\n",
    "serial_sim_tools.plot_all('sims_multiplot', sims)\n"
   ]
  },
  {
   "cell_type": "code",
   "execution_count": 23,
   "metadata": {},
   "outputs": [
    {
     "name": "stdout",
     "output_type": "stream",
     "text": [
      "/home/brewster/Desktop/cretin_package-master/Personal_experiments/sims_multiplot\n",
      "animation saved at /home/brewster/Desktop/cretin_package-master/Personal_experiments/sims_multiplot\n"
     ]
    },
    {
     "data": {
      "image/png": "[encoded data removed]",
      "text/plain": [
       "<Figure size 640x480 with 1 Axes>"
      ]
     },
     "metadata": {},
     "output_type": "display_data"
    }
   ],
   "source": [
    "import animate2\n",
    "reload(animate2)\n",
    "# note the amount of timesteps added above using the gen.parameters(time_between_snapshots = 1e-9) command located at the multiplot location.\n",
    "# all these snapshots can be turned into an animation using \n",
    "\n",
    "file_type_to_animate = 'mass densities'\n",
    "dir = paths.to_personal_data()+'sims_multiplot'\n",
    "animate2.ex(image_dir = dir,images_name = file_type_to_animate)\n"
   ]
  },
  {
   "cell_type": "code",
   "execution_count": 14,
   "metadata": {},
   "outputs": [],
   "source": [
    "# If you would like to have a look at the raw data produced by the dump file\n",
    "\n",
    "foldername= 'simrun_500.0'\n",
    "loc = f'{paths.to_personal_data()}{foldername}/{foldername}.d00'\n",
    "data = serial_sim_tools.savedict(loc)"
   ]
  }
 ],
 "metadata": {
  "kernelspec": {
   "display_name": "base",
   "language": "python",
   "name": "python3"
  },
  "language_info": {
   "codemirror_mode": {
    "name": "ipython",
    "version": 3
   },
   "file_extension": ".py",
   "mimetype": "text/x-python",
   "name": "python",
   "nbconvert_exporter": "python",
   "pygments_lexer": "ipython3",
   "version": "3.9.13"
  },
  "orig_nbformat": 4,
  "vscode": {
   "interpreter": {
    "hash": "dbf8f17e5f429e2b4709ff3b117dd239b5a5f6019ed64a0c5a4abac03c19c3d1"
   }
  }
 },
 "nbformat": 4,
 "nbformat_minor": 2
}
